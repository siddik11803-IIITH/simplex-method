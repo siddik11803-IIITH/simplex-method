{
 "cells": [
  {
   "cell_type": "code",
   "execution_count": 14,
   "id": "c4b27277",
   "metadata": {},
   "outputs": [],
   "source": [
    "import numpy as np\n",
    "import pandas as pd\n",
    "import matplotlib.pyplot as plt"
   ]
  },
  {
   "attachments": {},
   "cell_type": "markdown",
   "id": "92ab53e6",
   "metadata": {},
   "source": [
    "### Taking Inputs"
   ]
  },
  {
   "cell_type": "code",
   "execution_count": 15,
   "id": "115573a9",
   "metadata": {},
   "outputs": [],
   "source": [
    "input_file = open('./q1_in.txt')\n",
    "input_nums = input_file.read().split('\\n')"
   ]
  },
  {
   "cell_type": "code",
   "execution_count": 16,
   "id": "39ba2dd8",
   "metadata": {},
   "outputs": [],
   "source": [
    "input_nums =[list(map(int, input_nums[i].split(' '))) for i in range(len(input_nums))]"
   ]
  },
  {
   "cell_type": "code",
   "execution_count": 17,
   "id": "45511ba0",
   "metadata": {},
   "outputs": [
    {
     "data": {
      "text/plain": [
       "[[3, 2, 1], [5, 10, 8], [3, 5, 2], [4, 4, 4], [2, 4, 5], [60, 72, 100]]"
      ]
     },
     "execution_count": 17,
     "metadata": {},
     "output_type": "execute_result"
    }
   ],
   "source": [
    "input_nums"
   ]
  },
  {
   "cell_type": "code",
   "execution_count": null,
   "id": "a44dc3c7",
   "metadata": {},
   "outputs": [],
   "source": []
  }
 ],
 "metadata": {
  "kernelspec": {
   "display_name": "Python 3",
   "language": "python",
   "name": "python3"
  },
  "language_info": {
   "codemirror_mode": {
    "name": "ipython",
    "version": 3
   },
   "file_extension": ".py",
   "mimetype": "text/x-python",
   "name": "python",
   "nbconvert_exporter": "python",
   "pygments_lexer": "ipython3",
   "version": "3.10.9"
  },
  "vscode": {
   "interpreter": {
    "hash": "aee8b7b246df8f9039afb4144a1f6fd8d2ca17a180786b69acc140d282b71a49"
   }
  }
 },
 "nbformat": 4,
 "nbformat_minor": 5
}
